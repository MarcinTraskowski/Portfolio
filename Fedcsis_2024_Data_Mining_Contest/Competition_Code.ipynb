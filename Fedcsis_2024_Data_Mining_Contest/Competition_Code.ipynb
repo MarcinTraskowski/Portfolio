{
  "nbformat": 4,
  "nbformat_minor": 0,
  "metadata": {
    "colab": {
      "provenance": [],
      "gpuType": "T4"
    },
    "kernelspec": {
      "name": "python3",
      "display_name": "Python 3"
    },
    "language_info": {
      "name": "python"
    },
    "accelerator": "GPU"
  },
  "cells": [
    {
      "cell_type": "markdown",
      "source": [
        "# Introduction"
      ],
      "metadata": {
        "id": "DiQ9-RcyKTRf"
      }
    },
    {
      "cell_type": "markdown",
      "source": [
        "This is my solution for Fedcsis 2024 Data Mining Competition (https://knowledgepit.ai/fedcsis-2024-challenge/), which won special award for the highest cummulative performance.\n",
        "\n",
        "I attempted to add short comments here; a more detailed explanations can be found in the paper \"Forecasting Stock Trends with Feedforward Neural Networks,\" which is can be found in below links:\n",
        "\n",
        "https://annals-csis.org/Volume_39/\n",
        "\n",
        "https://www.researchgate.net/publication/385186749_Forecasting_Stock_Trends_with_Feedforward_Neural_Networks\n"
      ],
      "metadata": {
        "id": "AfPb-FxsJuHL"
      }
    },
    {
      "cell_type": "markdown",
      "source": [
        "# Importing libraries"
      ],
      "metadata": {
        "id": "fXEVvaVLWUTz"
      }
    },
    {
      "cell_type": "code",
      "execution_count": 96,
      "metadata": {
        "id": "e2GsjxtAGM2i"
      },
      "outputs": [],
      "source": [
        "import pandas as pd\n",
        "import numpy as np\n",
        "import torch\n",
        "import torch.nn as nn\n",
        "import torch.optim as optim\n",
        "from torch.utils.data import DataLoader, TensorDataset\n",
        "from sklearn.metrics import confusion_matrix\n",
        "import random"
      ]
    },
    {
      "cell_type": "markdown",
      "source": [
        "# Loading data and checking shapes"
      ],
      "metadata": {
        "id": "8VjPvRoqWXHq"
      }
    },
    {
      "cell_type": "code",
      "source": [
        "TRAIN = pd.read_csv('training_data.csv', sep=';')\n",
        "TEST = pd.read_csv('test_data_no_target.csv', sep=';')\n",
        "EVALUATION = pd.read_csv('eval_data.csv', sep=',')\n",
        "print(TRAIN.shape)\n",
        "print(TEST.shape)\n",
        "print(EVALUATION.shape)"
      ],
      "metadata": {
        "id": "uD-h1CCmWZkO",
        "colab": {
          "base_uri": "https://localhost:8080/"
        },
        "outputId": "4a88e8de-ac39-44f8-ec68-86f791ff3fac"
      },
      "execution_count": 97,
      "outputs": [
        {
          "output_type": "stream",
          "name": "stdout",
          "text": [
            "(8000, 119)\n",
            "(2000, 117)\n",
            "(2000, 3)\n"
          ]
        }
      ]
    },
    {
      "cell_type": "markdown",
      "source": [
        "# Correcting Data"
      ],
      "metadata": {
        "id": "u-Galr-HWbA7"
      }
    },
    {
      "cell_type": "code",
      "source": [
        "# Changing ',' to '.' so that python can read values as decimals\n",
        "TRAIN = TRAIN.replace(',', '.', regex=True)\n",
        "TEST = TEST.replace(',', '.', regex=True)"
      ],
      "metadata": {
        "id": "6UFvx33DWcjG"
      },
      "execution_count": 98,
      "outputs": []
    },
    {
      "cell_type": "code",
      "source": [
        "TRAIN.iloc[:, 1:] = TRAIN.iloc[:, 1:].astype(np.float64)\n",
        "TEST.iloc[:, 1:] = TEST.iloc[:, 1:].astype(np.float64)"
      ],
      "metadata": {
        "id": "zY3S4iR7Yc-q"
      },
      "execution_count": null,
      "outputs": []
    },
    {
      "cell_type": "code",
      "source": [
        "# 'NA' values will be changed to 0\n",
        "TRAIN.replace('NA', 0, inplace=True)\n",
        "TEST.replace('NA', 0, inplace=True)"
      ],
      "metadata": {
        "id": "kFFwG8OaYeLy"
      },
      "execution_count": 100,
      "outputs": []
    },
    {
      "cell_type": "code",
      "source": [
        "# Missing values will be approximated/guessed by mean of a column\n",
        "TRAIN.replace('', np.nan, inplace=True)\n",
        "for column in TRAIN.columns[1:-2]:\n",
        "    mean = TRAIN[column].mean()\n",
        "    TRAIN[column].fillna(mean, inplace=True)\n",
        "\n",
        "TEST.replace('', np.nan, inplace=True)\n",
        "for column in TEST.columns[1:]:\n",
        "    mean = TEST[column].mean()\n",
        "    TEST[column].fillna(mean, inplace=True)"
      ],
      "metadata": {
        "id": "P53savrmYfMh"
      },
      "execution_count": null,
      "outputs": []
    },
    {
      "cell_type": "code",
      "source": [
        "# checking whether all missing values are handled in TRAIN\n",
        "TRAIN.isnull().any().any()"
      ],
      "metadata": {
        "id": "uDugx9TRYhqj",
        "colab": {
          "base_uri": "https://localhost:8080/"
        },
        "outputId": "f3928dca-f86e-4f51-b1d6-70430c804f19"
      },
      "execution_count": 102,
      "outputs": [
        {
          "output_type": "execute_result",
          "data": {
            "text/plain": [
              "False"
            ]
          },
          "metadata": {},
          "execution_count": 102
        }
      ]
    },
    {
      "cell_type": "code",
      "source": [
        "# checking whether all missing values are handled in TEST\n",
        "TEST.isnull().any().any()"
      ],
      "metadata": {
        "id": "CFpvDbhGYiLJ",
        "colab": {
          "base_uri": "https://localhost:8080/"
        },
        "outputId": "240a28ba-378f-4858-fda7-effc27b03699"
      },
      "execution_count": 103,
      "outputs": [
        {
          "output_type": "execute_result",
          "data": {
            "text/plain": [
              "False"
            ]
          },
          "metadata": {},
          "execution_count": 103
        }
      ]
    },
    {
      "cell_type": "code",
      "source": [
        "# Categorical column 'group' will be one hot encoded\n",
        "TRAIN = pd.get_dummies(TRAIN, columns=[TRAIN.columns[0]], dtype=np.float64)\n",
        "\n",
        "# those new columns will reindex at the beginning so that 'class' and 'perform' stays at the end\n",
        "columns_order = [ *[TRAIN.columns[-i-1] for i in range(11) ], *[TRAIN.columns[i] for i in range(len(TRAIN.columns[:-11])) ]]\n",
        "TRAIN = TRAIN.reindex(columns=columns_order)"
      ],
      "metadata": {
        "id": "PuUmp-AZYj8h"
      },
      "execution_count": 104,
      "outputs": []
    },
    {
      "cell_type": "code",
      "source": [
        "# categorical column 'group' will be one hot encoded as above\n",
        "TEST = pd.get_dummies(TEST, columns=[TEST.columns[0]], dtype=np.float64)\n",
        "\n",
        "columns_order = [ *[TEST.columns[-i-1] for i in range(11) ], *[TEST.columns[i] for i in range(len(TEST.columns[:-11])) ]]\n",
        "TEST = TEST.reindex(columns=columns_order)"
      ],
      "metadata": {
        "id": "9vtWpo-_YmBK"
      },
      "execution_count": 105,
      "outputs": []
    },
    {
      "cell_type": "code",
      "source": [
        "TRAIN = TRAIN.astype(np.float64)\n",
        "TEST = TEST.astype(np.float64)"
      ],
      "metadata": {
        "id": "euF_58oEYnEm"
      },
      "execution_count": 106,
      "outputs": []
    },
    {
      "cell_type": "markdown",
      "source": [
        "# Standardization"
      ],
      "metadata": {
        "id": "vIFrymWWYxPz"
      }
    },
    {
      "cell_type": "code",
      "source": [
        "from sklearn.preprocessing import StandardScaler\n",
        "scaler = StandardScaler()\n",
        "TRAIN.iloc[:,:-2] = scaler.fit_transform( TRAIN.iloc[:,:-2] )\n",
        "TEST.iloc[:,:] = scaler.transform( TEST.iloc[:,:] )"
      ],
      "metadata": {
        "id": "6s-Rb0BcYoVi"
      },
      "execution_count": 107,
      "outputs": []
    },
    {
      "cell_type": "code",
      "source": [
        "TRAIN = TRAIN.astype(np.float64)\n",
        "TEST = TEST.astype(np.float64)\n",
        "\n",
        "EVALUATION = EVALUATION.iloc[:,:2]\n",
        "EVALUATION = EVALUATION.astype(np.float64)"
      ],
      "metadata": {
        "id": "lh6u0DAXY2fK"
      },
      "execution_count": 108,
      "outputs": []
    },
    {
      "cell_type": "markdown",
      "source": [
        "# Neural Network"
      ],
      "metadata": {
        "id": "zsBmVls9Y6sa"
      }
    },
    {
      "cell_type": "markdown",
      "source": [
        "We will have three models with 4, 8 and 12 layers. Hidden layers have shape of 256. First layer must have shape of 127 ( initially TRAIN had 119 columns, but because we dont use 'perform' and 'class', and also because of one hot encode we got 127)."
      ],
      "metadata": {
        "id": "n8CpC43GZCCq"
      }
    },
    {
      "cell_type": "code",
      "source": [
        "def set_seed(seed):\n",
        "    random.seed(seed)\n",
        "    np.random.seed(seed)\n",
        "    torch.manual_seed(seed)\n",
        "    torch.cuda.manual_seed(seed)\n",
        "    torch.cuda.manual_seed_all(seed)\n",
        "set_seed(100)"
      ],
      "metadata": {
        "id": "y4-i51wFY8Sa"
      },
      "execution_count": 109,
      "outputs": []
    },
    {
      "cell_type": "code",
      "source": [
        "class NeuralNetworkSmall(nn.Module):\n",
        "    def __init__(self, input_size=127, hidden_size=256, output_size=1):\n",
        "        super(NeuralNetworkSmall, self).__init__()\n",
        "\n",
        "        self.layers = nn.ModuleList()\n",
        "\n",
        "        # Linear, BatchNorm, Tanh activation function, then dropout\n",
        "        self.layers.append(nn.Sequential(\n",
        "            nn.Linear(input_size, hidden_size),\n",
        "            nn.BatchNorm1d(hidden_size),\n",
        "            nn.Tanh(),\n",
        "            nn.Dropout(0.2)\n",
        "        ))\n",
        "\n",
        "        for _ in range(2):\n",
        "            self.layers.append(nn.Sequential(\n",
        "                nn.Linear(hidden_size, hidden_size),\n",
        "                nn.BatchNorm1d(hidden_size),\n",
        "                nn.Tanh(),\n",
        "                nn.Dropout(0.2)\n",
        "            ))\n",
        "\n",
        "        self.output_layer = nn.Linear(hidden_size, output_size)\n",
        "\n",
        "        # Xavier Glorot Initialization\n",
        "        for layer in self.layers:\n",
        "            for sublayer in layer:\n",
        "                if isinstance(sublayer, nn.Linear):\n",
        "                    torch.nn.init.xavier_uniform_(sublayer.weight)\n",
        "        torch.nn.init.xavier_uniform_(self.output_layer.weight)\n",
        "\n",
        "    def forward(self, x):\n",
        "        for layer in self.layers:\n",
        "            x = layer(x)\n",
        "        x = self.output_layer(x)\n",
        "        return x"
      ],
      "metadata": {
        "id": "mDIlIgRjZU9S"
      },
      "execution_count": 110,
      "outputs": []
    },
    {
      "cell_type": "code",
      "source": [
        "class NeuralNetwork(nn.Module):\n",
        "    def __init__(self, input_size=127, hidden_size=256, output_size=1):\n",
        "        super(NeuralNetwork, self).__init__()\n",
        "\n",
        "        self.layers = nn.ModuleList()\n",
        "\n",
        "        # Linear, BatchNorm, Tanh activation function, then dropout\n",
        "        self.layers.append(nn.Sequential(\n",
        "            nn.Linear(input_size, hidden_size),\n",
        "            nn.BatchNorm1d(hidden_size),\n",
        "            nn.Tanh(),\n",
        "            nn.Dropout(0.2)\n",
        "        ))\n",
        "\n",
        "        for _ in range(6):\n",
        "            self.layers.append(nn.Sequential(\n",
        "                nn.Linear(hidden_size, hidden_size),\n",
        "                nn.BatchNorm1d(hidden_size),\n",
        "                nn.Tanh(),\n",
        "                nn.Dropout(0.2)\n",
        "            ))\n",
        "\n",
        "        self.output_layer = nn.Linear(hidden_size, output_size)\n",
        "\n",
        "        # Xavier Glorot Initialization\n",
        "        for layer in self.layers:\n",
        "            for sublayer in layer:\n",
        "                if isinstance(sublayer, nn.Linear):\n",
        "                    torch.nn.init.xavier_uniform_(sublayer.weight)\n",
        "        torch.nn.init.xavier_uniform_(self.output_layer.weight)\n",
        "\n",
        "    def forward(self, x):\n",
        "        for layer in self.layers:\n",
        "            x = layer(x)\n",
        "        x = self.output_layer(x)\n",
        "        return x"
      ],
      "metadata": {
        "id": "HBWoT6ZmZVey"
      },
      "execution_count": 112,
      "outputs": []
    },
    {
      "cell_type": "code",
      "source": [
        "class NeuralNetworkMedium(nn.Module):\n",
        "    def __init__(self, input_size=127, hidden_size=512, output_size=1):\n",
        "        super(NeuralNetworkMedium, self).__init__()\n",
        "\n",
        "        self.layers = nn.ModuleList()\n",
        "\n",
        "        self.layers.append(nn.Sequential(\n",
        "            nn.Linear(input_size, hidden_size),\n",
        "            nn.BatchNorm1d(hidden_size),\n",
        "            nn.Tanh(),\n",
        "            nn.Dropout(0.2)\n",
        "        ))\n",
        "\n",
        "        # Linear, BatchNorm, Tanh activation function, then dropout\n",
        "        for _ in range(10):\n",
        "            self.layers.append(nn.Sequential(\n",
        "                nn.Linear(hidden_size, hidden_size),\n",
        "                nn.BatchNorm1d(hidden_size),\n",
        "                nn.Tanh(),\n",
        "                nn.Dropout(0.2)\n",
        "            ))\n",
        "\n",
        "        self.output_layer = nn.Linear(hidden_size, output_size)\n",
        "\n",
        "        # Xavier Glorot Initialization\n",
        "        for layer in self.layers:\n",
        "            for sublayer in layer:\n",
        "                if isinstance(sublayer, nn.Linear):\n",
        "                    torch.nn.init.xavier_uniform_(sublayer.weight)\n",
        "        torch.nn.init.xavier_uniform_(self.output_layer.weight)\n",
        "\n",
        "    def forward(self, x):\n",
        "        for layer in self.layers:\n",
        "            x = layer(x)\n",
        "        x = self.output_layer(x)\n",
        "        return x"
      ],
      "metadata": {
        "id": "rMzYwrG4ZXLy"
      },
      "execution_count": 113,
      "outputs": []
    },
    {
      "cell_type": "markdown",
      "source": [
        "# Training\n",
        "\n"
      ],
      "metadata": {
        "id": "Gek4zs-sZbwS"
      }
    },
    {
      "cell_type": "markdown",
      "source": [
        "# **MODEL 1**\n",
        "\n",
        "lr 0.00005, 4 layers (counting hidden and unhidden layers)"
      ],
      "metadata": {
        "id": "wPFe7fNEZhFC"
      }
    },
    {
      "cell_type": "code",
      "source": [
        "model1 = NeuralNetworkSmall()\n",
        "\n",
        "\n",
        "device = torch.device('cuda' if torch.cuda.is_available() else 'cpu')\n",
        "\n",
        "model1 = model1.to(device)\n",
        "\n",
        "criterion = nn.MSELoss()\n",
        "optimizer = optim.AdamW(model1.parameters(), lr=0.00005)\n",
        "\n",
        "# preparing data to make dataloader\n",
        "inputs = torch.tensor(TRAIN.iloc[:,:-2].values, dtype=torch.float32).to(device)\n",
        "targets = torch.tensor(TRAIN.iloc[:,-1].values, dtype=torch.float32).to(device)\n",
        "dataset = TensorDataset(inputs, targets)\n",
        "\n",
        "TRAIN_LOADER = DataLoader(dataset, batch_size=40, shuffle=True)\n",
        "\n",
        "\n",
        "number_epochs = 100\n",
        "\n",
        "for epoch in range(number_epochs):\n",
        "\n",
        "\n",
        "    running_loss = 0.0\n",
        "    model1.train()\n",
        "\n",
        "\n",
        "\n",
        "    for inputs, targets in TRAIN_LOADER:\n",
        "\n",
        "        # inputs shape torch.Size([batch_size, 127])\n",
        "        optimizer.zero_grad()\n",
        "\n",
        "        # outputs shape batch_size,1\n",
        "        outputs = model1(inputs)\n",
        "\n",
        "        # targets.unsqueeze(1) because of shape of outputs\n",
        "        loss = criterion(outputs, targets.unsqueeze(1))\n",
        "\n",
        "        loss.backward()\n",
        "\n",
        "        optimizer.step()\n",
        "\n",
        "        running_loss += loss.item()\n",
        "\n",
        "    epoch_loss = running_loss / len(TRAIN_LOADER.dataset)\n",
        "\n",
        "    print(f'Epoch [{epoch + 1}/{number_epochs}], Loss: {epoch_loss:.10f}')\n",
        "\n",
        "\n",
        "torch.save(model1.state_dict(), 'model1.pth')"
      ],
      "metadata": {
        "id": "H4pDFRSwZh46",
        "colab": {
          "base_uri": "https://localhost:8080/"
        },
        "outputId": "29efe9e7-ed53-4ca2-8fda-8751f9d1b008"
      },
      "execution_count": 114,
      "outputs": [
        {
          "output_type": "stream",
          "name": "stdout",
          "text": [
            "Epoch [1/100], Loss: 0.0134640072\n",
            "Epoch [2/100], Loss: 0.0087213230\n",
            "Epoch [3/100], Loss: 0.0071661802\n",
            "Epoch [4/100], Loss: 0.0064575378\n",
            "Epoch [5/100], Loss: 0.0059121112\n",
            "Epoch [6/100], Loss: 0.0055182366\n",
            "Epoch [7/100], Loss: 0.0054456209\n",
            "Epoch [8/100], Loss: 0.0048904406\n",
            "Epoch [9/100], Loss: 0.0047742549\n",
            "Epoch [10/100], Loss: 0.0045267488\n",
            "Epoch [11/100], Loss: 0.0045553609\n",
            "Epoch [12/100], Loss: 0.0043093250\n",
            "Epoch [13/100], Loss: 0.0039188846\n",
            "Epoch [14/100], Loss: 0.0039115382\n",
            "Epoch [15/100], Loss: 0.0036677931\n",
            "Epoch [16/100], Loss: 0.0035258426\n",
            "Epoch [17/100], Loss: 0.0033551546\n",
            "Epoch [18/100], Loss: 0.0031636461\n",
            "Epoch [19/100], Loss: 0.0030783425\n",
            "Epoch [20/100], Loss: 0.0029454090\n",
            "Epoch [21/100], Loss: 0.0026667592\n",
            "Epoch [22/100], Loss: 0.0026283376\n",
            "Epoch [23/100], Loss: 0.0025382201\n",
            "Epoch [24/100], Loss: 0.0024426255\n",
            "Epoch [25/100], Loss: 0.0022925500\n",
            "Epoch [26/100], Loss: 0.0021633638\n",
            "Epoch [27/100], Loss: 0.0020396942\n",
            "Epoch [28/100], Loss: 0.0019347569\n",
            "Epoch [29/100], Loss: 0.0018331692\n",
            "Epoch [30/100], Loss: 0.0018337776\n",
            "Epoch [31/100], Loss: 0.0016972782\n",
            "Epoch [32/100], Loss: 0.0015867346\n",
            "Epoch [33/100], Loss: 0.0015397245\n",
            "Epoch [34/100], Loss: 0.0014616083\n",
            "Epoch [35/100], Loss: 0.0013346686\n",
            "Epoch [36/100], Loss: 0.0013117585\n",
            "Epoch [37/100], Loss: 0.0012619561\n",
            "Epoch [38/100], Loss: 0.0011799432\n",
            "Epoch [39/100], Loss: 0.0011189273\n",
            "Epoch [40/100], Loss: 0.0010646349\n",
            "Epoch [41/100], Loss: 0.0010684535\n",
            "Epoch [42/100], Loss: 0.0009871528\n",
            "Epoch [43/100], Loss: 0.0009131625\n",
            "Epoch [44/100], Loss: 0.0009005668\n",
            "Epoch [45/100], Loss: 0.0008523166\n",
            "Epoch [46/100], Loss: 0.0008322475\n",
            "Epoch [47/100], Loss: 0.0008091746\n",
            "Epoch [48/100], Loss: 0.0007750777\n",
            "Epoch [49/100], Loss: 0.0007490746\n",
            "Epoch [50/100], Loss: 0.0007181527\n",
            "Epoch [51/100], Loss: 0.0007034584\n",
            "Epoch [52/100], Loss: 0.0006881987\n",
            "Epoch [53/100], Loss: 0.0006763009\n",
            "Epoch [54/100], Loss: 0.0006454769\n",
            "Epoch [55/100], Loss: 0.0006310255\n",
            "Epoch [56/100], Loss: 0.0006201836\n",
            "Epoch [57/100], Loss: 0.0006117130\n",
            "Epoch [58/100], Loss: 0.0005968059\n",
            "Epoch [59/100], Loss: 0.0005949826\n",
            "Epoch [60/100], Loss: 0.0005822300\n",
            "Epoch [61/100], Loss: 0.0005695293\n",
            "Epoch [62/100], Loss: 0.0005578810\n",
            "Epoch [63/100], Loss: 0.0005569009\n",
            "Epoch [64/100], Loss: 0.0005500143\n",
            "Epoch [65/100], Loss: 0.0005448954\n",
            "Epoch [66/100], Loss: 0.0005377174\n",
            "Epoch [67/100], Loss: 0.0005395666\n",
            "Epoch [68/100], Loss: 0.0005345174\n",
            "Epoch [69/100], Loss: 0.0005345461\n",
            "Epoch [70/100], Loss: 0.0005292905\n",
            "Epoch [71/100], Loss: 0.0005218551\n",
            "Epoch [72/100], Loss: 0.0005279355\n",
            "Epoch [73/100], Loss: 0.0005255250\n",
            "Epoch [74/100], Loss: 0.0005224412\n",
            "Epoch [75/100], Loss: 0.0005177347\n",
            "Epoch [76/100], Loss: 0.0005156517\n",
            "Epoch [77/100], Loss: 0.0005148067\n",
            "Epoch [78/100], Loss: 0.0005143144\n",
            "Epoch [79/100], Loss: 0.0005157975\n",
            "Epoch [80/100], Loss: 0.0005130829\n",
            "Epoch [81/100], Loss: 0.0005092378\n",
            "Epoch [82/100], Loss: 0.0005129627\n",
            "Epoch [83/100], Loss: 0.0005111707\n",
            "Epoch [84/100], Loss: 0.0005072732\n",
            "Epoch [85/100], Loss: 0.0005118841\n",
            "Epoch [86/100], Loss: 0.0005083195\n",
            "Epoch [87/100], Loss: 0.0005045790\n",
            "Epoch [88/100], Loss: 0.0005053900\n",
            "Epoch [89/100], Loss: 0.0005056464\n",
            "Epoch [90/100], Loss: 0.0005060503\n",
            "Epoch [91/100], Loss: 0.0005052391\n",
            "Epoch [92/100], Loss: 0.0005031868\n",
            "Epoch [93/100], Loss: 0.0005038261\n",
            "Epoch [94/100], Loss: 0.0005016554\n",
            "Epoch [95/100], Loss: 0.0005053128\n",
            "Epoch [96/100], Loss: 0.0005023907\n",
            "Epoch [97/100], Loss: 0.0005002861\n",
            "Epoch [98/100], Loss: 0.0004991964\n",
            "Epoch [99/100], Loss: 0.0004963688\n",
            "Epoch [100/100], Loss: 0.0004974297\n"
          ]
        }
      ]
    },
    {
      "cell_type": "markdown",
      "source": [
        "# **MODEL 2**\n",
        "\n",
        "lr 0.00005, 8 layers"
      ],
      "metadata": {
        "id": "UpK-dE6HZkDh"
      }
    },
    {
      "cell_type": "code",
      "source": [
        "model2 = NeuralNetwork()\n",
        "\n",
        "\n",
        "device = torch.device('cuda' if torch.cuda.is_available() else 'cpu')\n",
        "\n",
        "model2 = model2.to(device)\n",
        "\n",
        "criterion = nn.MSELoss()\n",
        "optimizer = optim.AdamW(model2.parameters(), lr=0.00005)\n",
        "\n",
        "# preparing data to make dataloader\n",
        "inputs = torch.tensor(TRAIN.iloc[:,:-2].values, dtype=torch.float32).to(device)\n",
        "targets = torch.tensor(TRAIN.iloc[:,-1].values, dtype=torch.float32).to(device)\n",
        "dataset = TensorDataset(inputs, targets)\n",
        "\n",
        "TRAIN_LOADER = DataLoader(dataset, batch_size=40, shuffle=True)\n",
        "\n",
        "\n",
        "number_epochs = 100\n",
        "\n",
        "for epoch in range(number_epochs):\n",
        "\n",
        "\n",
        "    running_loss = 0.0\n",
        "    model2.train()\n",
        "\n",
        "\n",
        "\n",
        "    for inputs, targets in TRAIN_LOADER:\n",
        "\n",
        "        # inputs shape torch.Size([batch_size, 127])\n",
        "        optimizer.zero_grad()\n",
        "\n",
        "        # outputs shape batch_size,1\n",
        "        outputs = model2(inputs)\n",
        "\n",
        "        # targets.unsqueeze(1) because of shape of outputs\n",
        "        loss = criterion(outputs, targets.unsqueeze(1))\n",
        "\n",
        "        loss.backward()\n",
        "\n",
        "        optimizer.step()\n",
        "\n",
        "        running_loss += loss.item()\n",
        "\n",
        "    epoch_loss = running_loss / len(TRAIN_LOADER.dataset)\n",
        "\n",
        "    print(f'Epoch [{epoch + 1}/{number_epochs}], Loss: {epoch_loss:.10f}')\n",
        "\n",
        "\n",
        "torch.save(model2.state_dict(), 'model2.pth')"
      ],
      "metadata": {
        "id": "PN28tidrZlcS",
        "colab": {
          "base_uri": "https://localhost:8080/"
        },
        "outputId": "7b452fbd-d390-48f3-f919-46118584fd10"
      },
      "execution_count": 115,
      "outputs": [
        {
          "output_type": "stream",
          "name": "stdout",
          "text": [
            "Epoch [1/100], Loss: 0.0137414237\n",
            "Epoch [2/100], Loss: 0.0093682309\n",
            "Epoch [3/100], Loss: 0.0080522110\n",
            "Epoch [4/100], Loss: 0.0072312639\n",
            "Epoch [5/100], Loss: 0.0065720258\n",
            "Epoch [6/100], Loss: 0.0062516773\n",
            "Epoch [7/100], Loss: 0.0058843779\n",
            "Epoch [8/100], Loss: 0.0057992716\n",
            "Epoch [9/100], Loss: 0.0054363313\n",
            "Epoch [10/100], Loss: 0.0050325350\n",
            "Epoch [11/100], Loss: 0.0049155164\n",
            "Epoch [12/100], Loss: 0.0046803364\n",
            "Epoch [13/100], Loss: 0.0044721507\n",
            "Epoch [14/100], Loss: 0.0042789944\n",
            "Epoch [15/100], Loss: 0.0041350379\n",
            "Epoch [16/100], Loss: 0.0038996115\n",
            "Epoch [17/100], Loss: 0.0037080359\n",
            "Epoch [18/100], Loss: 0.0035689660\n",
            "Epoch [19/100], Loss: 0.0034894827\n",
            "Epoch [20/100], Loss: 0.0033009980\n",
            "Epoch [21/100], Loss: 0.0031471115\n",
            "Epoch [22/100], Loss: 0.0029571868\n",
            "Epoch [23/100], Loss: 0.0028189883\n",
            "Epoch [24/100], Loss: 0.0026493006\n",
            "Epoch [25/100], Loss: 0.0025698474\n",
            "Epoch [26/100], Loss: 0.0023984460\n",
            "Epoch [27/100], Loss: 0.0023171354\n",
            "Epoch [28/100], Loss: 0.0021761905\n",
            "Epoch [29/100], Loss: 0.0020372893\n",
            "Epoch [30/100], Loss: 0.0019754373\n",
            "Epoch [31/100], Loss: 0.0018639584\n",
            "Epoch [32/100], Loss: 0.0017929268\n",
            "Epoch [33/100], Loss: 0.0017203889\n",
            "Epoch [34/100], Loss: 0.0015796567\n",
            "Epoch [35/100], Loss: 0.0015854799\n",
            "Epoch [36/100], Loss: 0.0014614718\n",
            "Epoch [37/100], Loss: 0.0013771070\n",
            "Epoch [38/100], Loss: 0.0013281755\n",
            "Epoch [39/100], Loss: 0.0012735145\n",
            "Epoch [40/100], Loss: 0.0012042649\n",
            "Epoch [41/100], Loss: 0.0011799622\n",
            "Epoch [42/100], Loss: 0.0011201106\n",
            "Epoch [43/100], Loss: 0.0010720612\n",
            "Epoch [44/100], Loss: 0.0010270139\n",
            "Epoch [45/100], Loss: 0.0009654402\n",
            "Epoch [46/100], Loss: 0.0009183424\n",
            "Epoch [47/100], Loss: 0.0008760879\n",
            "Epoch [48/100], Loss: 0.0008560313\n",
            "Epoch [49/100], Loss: 0.0008359462\n",
            "Epoch [50/100], Loss: 0.0008051674\n",
            "Epoch [51/100], Loss: 0.0007613396\n",
            "Epoch [52/100], Loss: 0.0007508440\n",
            "Epoch [53/100], Loss: 0.0007183391\n",
            "Epoch [54/100], Loss: 0.0006949615\n",
            "Epoch [55/100], Loss: 0.0006816987\n",
            "Epoch [56/100], Loss: 0.0006752338\n",
            "Epoch [57/100], Loss: 0.0006571508\n",
            "Epoch [58/100], Loss: 0.0006257433\n",
            "Epoch [59/100], Loss: 0.0006240339\n",
            "Epoch [60/100], Loss: 0.0006159032\n",
            "Epoch [61/100], Loss: 0.0006005376\n",
            "Epoch [62/100], Loss: 0.0006041615\n",
            "Epoch [63/100], Loss: 0.0005898874\n",
            "Epoch [64/100], Loss: 0.0005789845\n",
            "Epoch [65/100], Loss: 0.0005771901\n",
            "Epoch [66/100], Loss: 0.0005642900\n",
            "Epoch [67/100], Loss: 0.0005641307\n",
            "Epoch [68/100], Loss: 0.0005566953\n",
            "Epoch [69/100], Loss: 0.0005542398\n",
            "Epoch [70/100], Loss: 0.0005522195\n",
            "Epoch [71/100], Loss: 0.0005464874\n",
            "Epoch [72/100], Loss: 0.0005440313\n",
            "Epoch [73/100], Loss: 0.0005439997\n",
            "Epoch [74/100], Loss: 0.0005435729\n",
            "Epoch [75/100], Loss: 0.0005361316\n",
            "Epoch [76/100], Loss: 0.0005333946\n",
            "Epoch [77/100], Loss: 0.0005337062\n",
            "Epoch [78/100], Loss: 0.0005337601\n",
            "Epoch [79/100], Loss: 0.0005308613\n",
            "Epoch [80/100], Loss: 0.0005326416\n",
            "Epoch [81/100], Loss: 0.0005292730\n",
            "Epoch [82/100], Loss: 0.0005269679\n",
            "Epoch [83/100], Loss: 0.0005260830\n",
            "Epoch [84/100], Loss: 0.0005269350\n",
            "Epoch [85/100], Loss: 0.0005234745\n",
            "Epoch [86/100], Loss: 0.0005266566\n",
            "Epoch [87/100], Loss: 0.0005224250\n",
            "Epoch [88/100], Loss: 0.0005239329\n",
            "Epoch [89/100], Loss: 0.0005226991\n",
            "Epoch [90/100], Loss: 0.0005203453\n",
            "Epoch [91/100], Loss: 0.0005181383\n",
            "Epoch [92/100], Loss: 0.0005210131\n",
            "Epoch [93/100], Loss: 0.0005212690\n",
            "Epoch [94/100], Loss: 0.0005166391\n",
            "Epoch [95/100], Loss: 0.0005170700\n",
            "Epoch [96/100], Loss: 0.0005163840\n",
            "Epoch [97/100], Loss: 0.0005162733\n",
            "Epoch [98/100], Loss: 0.0005137657\n",
            "Epoch [99/100], Loss: 0.0005183250\n",
            "Epoch [100/100], Loss: 0.0005163102\n"
          ]
        }
      ]
    },
    {
      "cell_type": "markdown",
      "source": [
        "# **MODEL 3**\n",
        "\n",
        "lr 0.00005, 12 layers"
      ],
      "metadata": {
        "id": "RNqJlT6AZnBJ"
      }
    },
    {
      "cell_type": "code",
      "source": [
        "model3 = NeuralNetworkMedium()\n",
        "\n",
        "\n",
        "device = torch.device('cuda' if torch.cuda.is_available() else 'cpu')\n",
        "\n",
        "model3 = model3.to(device)\n",
        "\n",
        "criterion = nn.MSELoss()\n",
        "optimizer = optim.AdamW(model3.parameters(), lr=0.00005)\n",
        "\n",
        "# preparing data to make dataloader\n",
        "inputs = torch.tensor(TRAIN.iloc[:,:-2].values, dtype=torch.float32).to(device)\n",
        "targets = torch.tensor(TRAIN.iloc[:,-1].values, dtype=torch.float32).to(device)\n",
        "dataset = TensorDataset(inputs, targets)\n",
        "\n",
        "TRAIN_LOADER = DataLoader(dataset, batch_size=40, shuffle=True)\n",
        "\n",
        "\n",
        "number_epochs = 100\n",
        "\n",
        "for epoch in range(number_epochs):\n",
        "\n",
        "\n",
        "    running_loss = 0.0\n",
        "    model3.train()\n",
        "\n",
        "\n",
        "\n",
        "    for inputs, targets in TRAIN_LOADER:\n",
        "\n",
        "        # inputs shape torch.Size([batch_size, 127])\n",
        "        optimizer.zero_grad()\n",
        "\n",
        "        # outputs shape batch_size,1\n",
        "        outputs = model3(inputs)\n",
        "\n",
        "        # targets.unsqueeze(1) because of shape of outputs\n",
        "        loss = criterion(outputs, targets.unsqueeze(1))\n",
        "\n",
        "        loss.backward()\n",
        "\n",
        "        optimizer.step()\n",
        "\n",
        "        running_loss += loss.item()\n",
        "\n",
        "    epoch_loss = running_loss / len(TRAIN_LOADER.dataset)\n",
        "\n",
        "    print(f'Epoch [{epoch + 1}/{number_epochs}], Loss: {epoch_loss:.10f}')\n",
        "\n",
        "torch.save(model3.state_dict(), 'model3.pth')"
      ],
      "metadata": {
        "id": "u__oj6OxZpBC",
        "colab": {
          "base_uri": "https://localhost:8080/"
        },
        "outputId": "90a45f04-9dfd-4a64-a610-aa43c79a5e9d"
      },
      "execution_count": 116,
      "outputs": [
        {
          "output_type": "stream",
          "name": "stdout",
          "text": [
            "Epoch [1/100], Loss: 0.0137568656\n",
            "Epoch [2/100], Loss: 0.0088780712\n",
            "Epoch [3/100], Loss: 0.0073493858\n",
            "Epoch [4/100], Loss: 0.0069309555\n",
            "Epoch [5/100], Loss: 0.0064044031\n",
            "Epoch [6/100], Loss: 0.0062259846\n",
            "Epoch [7/100], Loss: 0.0059936852\n",
            "Epoch [8/100], Loss: 0.0056687957\n",
            "Epoch [9/100], Loss: 0.0053708521\n",
            "Epoch [10/100], Loss: 0.0052316993\n",
            "Epoch [11/100], Loss: 0.0048740881\n",
            "Epoch [12/100], Loss: 0.0046427452\n",
            "Epoch [13/100], Loss: 0.0045191302\n",
            "Epoch [14/100], Loss: 0.0043011670\n",
            "Epoch [15/100], Loss: 0.0041618053\n",
            "Epoch [16/100], Loss: 0.0039030556\n",
            "Epoch [17/100], Loss: 0.0038638654\n",
            "Epoch [18/100], Loss: 0.0035231301\n",
            "Epoch [19/100], Loss: 0.0034762057\n",
            "Epoch [20/100], Loss: 0.0032562912\n",
            "Epoch [21/100], Loss: 0.0031709556\n",
            "Epoch [22/100], Loss: 0.0029320745\n",
            "Epoch [23/100], Loss: 0.0028045125\n",
            "Epoch [24/100], Loss: 0.0026829489\n",
            "Epoch [25/100], Loss: 0.0025893940\n",
            "Epoch [26/100], Loss: 0.0023809218\n",
            "Epoch [27/100], Loss: 0.0023671579\n",
            "Epoch [28/100], Loss: 0.0022088196\n",
            "Epoch [29/100], Loss: 0.0020385867\n",
            "Epoch [30/100], Loss: 0.0019609418\n",
            "Epoch [31/100], Loss: 0.0018352121\n",
            "Epoch [32/100], Loss: 0.0018008672\n",
            "Epoch [33/100], Loss: 0.0016617605\n",
            "Epoch [34/100], Loss: 0.0015507191\n",
            "Epoch [35/100], Loss: 0.0014772076\n",
            "Epoch [36/100], Loss: 0.0014206049\n",
            "Epoch [37/100], Loss: 0.0013609838\n",
            "Epoch [38/100], Loss: 0.0012871194\n",
            "Epoch [39/100], Loss: 0.0011923527\n",
            "Epoch [40/100], Loss: 0.0011519615\n",
            "Epoch [41/100], Loss: 0.0010714257\n",
            "Epoch [42/100], Loss: 0.0010579996\n",
            "Epoch [43/100], Loss: 0.0010203492\n",
            "Epoch [44/100], Loss: 0.0009563503\n",
            "Epoch [45/100], Loss: 0.0009360979\n",
            "Epoch [46/100], Loss: 0.0008761368\n",
            "Epoch [47/100], Loss: 0.0008464309\n",
            "Epoch [48/100], Loss: 0.0008195874\n",
            "Epoch [49/100], Loss: 0.0008005433\n",
            "Epoch [50/100], Loss: 0.0007627031\n",
            "Epoch [51/100], Loss: 0.0007404934\n",
            "Epoch [52/100], Loss: 0.0007064038\n",
            "Epoch [53/100], Loss: 0.0006872037\n",
            "Epoch [54/100], Loss: 0.0006749397\n",
            "Epoch [55/100], Loss: 0.0006567646\n",
            "Epoch [56/100], Loss: 0.0006444124\n",
            "Epoch [57/100], Loss: 0.0006345518\n",
            "Epoch [58/100], Loss: 0.0006236069\n",
            "Epoch [59/100], Loss: 0.0006014010\n",
            "Epoch [60/100], Loss: 0.0006023122\n",
            "Epoch [61/100], Loss: 0.0005963154\n",
            "Epoch [62/100], Loss: 0.0005801924\n",
            "Epoch [63/100], Loss: 0.0005665754\n",
            "Epoch [64/100], Loss: 0.0005683021\n",
            "Epoch [65/100], Loss: 0.0005635070\n",
            "Epoch [66/100], Loss: 0.0005569460\n",
            "Epoch [67/100], Loss: 0.0005539210\n",
            "Epoch [68/100], Loss: 0.0005556553\n",
            "Epoch [69/100], Loss: 0.0005485687\n",
            "Epoch [70/100], Loss: 0.0005463533\n",
            "Epoch [71/100], Loss: 0.0005394220\n",
            "Epoch [72/100], Loss: 0.0005370396\n",
            "Epoch [73/100], Loss: 0.0005345792\n",
            "Epoch [74/100], Loss: 0.0005360476\n",
            "Epoch [75/100], Loss: 0.0005344897\n",
            "Epoch [76/100], Loss: 0.0005297525\n",
            "Epoch [77/100], Loss: 0.0005291014\n",
            "Epoch [78/100], Loss: 0.0005268432\n",
            "Epoch [79/100], Loss: 0.0005287947\n",
            "Epoch [80/100], Loss: 0.0005236479\n",
            "Epoch [81/100], Loss: 0.0005217862\n",
            "Epoch [82/100], Loss: 0.0005229001\n",
            "Epoch [83/100], Loss: 0.0005201852\n",
            "Epoch [84/100], Loss: 0.0005217035\n",
            "Epoch [85/100], Loss: 0.0005178908\n",
            "Epoch [86/100], Loss: 0.0005188145\n",
            "Epoch [87/100], Loss: 0.0005176505\n",
            "Epoch [88/100], Loss: 0.0005166667\n",
            "Epoch [89/100], Loss: 0.0005153586\n",
            "Epoch [90/100], Loss: 0.0005141266\n",
            "Epoch [91/100], Loss: 0.0005130843\n",
            "Epoch [92/100], Loss: 0.0005107332\n",
            "Epoch [93/100], Loss: 0.0005091382\n",
            "Epoch [94/100], Loss: 0.0005082251\n",
            "Epoch [95/100], Loss: 0.0005088405\n",
            "Epoch [96/100], Loss: 0.0005073407\n",
            "Epoch [97/100], Loss: 0.0005060410\n",
            "Epoch [98/100], Loss: 0.0005039957\n",
            "Epoch [99/100], Loss: 0.0005015311\n",
            "Epoch [100/100], Loss: 0.0005024673\n"
          ]
        }
      ]
    },
    {
      "cell_type": "markdown",
      "source": [
        "# Testing output shape"
      ],
      "metadata": {
        "id": "rcrqdT8fZvZi"
      }
    },
    {
      "cell_type": "code",
      "source": [
        "test = torch.tensor(TEST.iloc[:,:].values, dtype=torch.float32).to(device)\n",
        "\n",
        "outputs1 = model1(test)\n",
        "outputs2 = model2(test)\n",
        "outputs3 = model3(test)\n",
        "\n",
        "print(outputs1.flatten().shape)\n",
        "print(outputs2.flatten().shape)\n",
        "print(outputs3.flatten().shape)"
      ],
      "metadata": {
        "id": "5qAJN7ISZyAS",
        "colab": {
          "base_uri": "https://localhost:8080/"
        },
        "outputId": "5906621d-5992-4198-b367-5d4202a56a87"
      },
      "execution_count": 117,
      "outputs": [
        {
          "output_type": "stream",
          "name": "stdout",
          "text": [
            "torch.Size([2000])\n",
            "torch.Size([2000])\n",
            "torch.Size([2000])\n"
          ]
        }
      ]
    },
    {
      "cell_type": "markdown",
      "source": [
        "# Histogram od distribution of risk-return performance in Test Dataset"
      ],
      "metadata": {
        "id": "VDR89GJPLn2x"
      }
    },
    {
      "cell_type": "code",
      "source": [
        "import matplotlib.pyplot as plt\n",
        "\n",
        "plt.figure(figsize=(8, 5))\n",
        "plt.hist(EVALUATION['Perform'],bins=50, edgecolor='black',color='skyblue')\n",
        "plt.title('Distribution of risk-return performance in Test Dataset', fontsize=14)\n",
        "plt.xticks([i / 10.0 for i in range(-5, 6)], fontsize=14)\n",
        "plt.yticks(fontsize=14)\n",
        "plt.tight_layout()\n",
        "plt.savefig('distribution_histograms.jpg', dpi=300)\n",
        "plt.show()"
      ],
      "metadata": {
        "id": "JfG1CMN7Z4Wq",
        "colab": {
          "base_uri": "https://localhost:8080/",
          "height": 507
        },
        "outputId": "e4d2a532-0f44-4aff-cbd8-589d6ac368e6"
      },
      "execution_count": 118,
      "outputs": [
        {
          "output_type": "display_data",
          "data": {
            "text/plain": [
              "<Figure size 800x500 with 1 Axes>"
            ],
            "image/png": "[encoded data removed]"
          },
          "metadata": {}
        }
      ]
    },
    {
      "cell_type": "markdown",
      "source": [
        "# MAE of three models"
      ],
      "metadata": {
        "id": "un5qwUm7L0Vb"
      }
    },
    {
      "cell_type": "code",
      "source": [
        "from sklearn.metrics import mean_absolute_error\n",
        "from sklearn.metrics import mean_squared_error\n",
        "\n",
        "print(mean_absolute_error(outputs1.flatten().cpu().detach().numpy(), EVALUATION.iloc[:,1].values.flatten()))\n",
        "print(mean_absolute_error(outputs2.flatten().cpu().detach().numpy(), EVALUATION.iloc[:,1].values.flatten()))\n",
        "print(mean_absolute_error(outputs3.flatten().cpu().detach().numpy(), EVALUATION.iloc[:,1].values.flatten()))"
      ],
      "metadata": {
        "id": "G2-wHILWfTHK",
        "colab": {
          "base_uri": "https://localhost:8080/"
        },
        "outputId": "07315c13-394c-4a4c-fef4-deea6f7cb176"
      },
      "execution_count": 119,
      "outputs": [
        {
          "output_type": "stream",
          "name": "stdout",
          "text": [
            "0.11736770687722248\n",
            "0.11577301478475784\n",
            "0.11968807318887303\n"
          ]
        }
      ]
    },
    {
      "cell_type": "markdown",
      "source": [
        "# Histograms of differences between True and Predicted Values"
      ],
      "metadata": {
        "id": "7-gpzJB3L4mV"
      }
    },
    {
      "cell_type": "code",
      "source": [
        "import matplotlib.pyplot as plt\n",
        "\n",
        "fig, axs = plt.subplots(1, 3, figsize=(18, 5))  # 1 row, 3 columns\n",
        "\n",
        "# Plotting the first histogram\n",
        "axs[0].hist(EVALUATION.iloc[:, 1].values.flatten() - outputs1.flatten().cpu().detach().numpy(), bins=50, edgecolor='black')\n",
        "axs[0].set_title('Model 1: Difference between True and Predicted Values', fontsize=13)\n",
        "axs[0].set_xticks([i / 10.0 for i in range(-5, 6)])\n",
        "axs[0].tick_params(labelsize=13)\n",
        "\n",
        "# Plotting the second histogram\n",
        "axs[1].hist(EVALUATION.iloc[:, 1].values.flatten() - outputs2.flatten().cpu().detach().numpy(), bins=50, edgecolor='black')\n",
        "axs[1].set_title('Model 2: Difference between True and Predicted Values', fontsize=13)\n",
        "axs[1].set_xticks([i / 10.0 for i in range(-5, 6)])\n",
        "axs[1].tick_params(labelsize=13)\n",
        "\n",
        "# Plotting the third histogram\n",
        "axs[2].hist(EVALUATION.iloc[:, 1].values.flatten() - outputs3.flatten().cpu().detach().numpy(), bins=50, edgecolor='black')\n",
        "axs[2].set_title('Model 3: Difference between True and Predicted Values', fontsize=13)\n",
        "axs[2].set_xticks([i / 10.0 for i in range(-5, 6)])\n",
        "axs[2].tick_params(labelsize=13)\n",
        "# Adjust layout and save the figure as jpg\n",
        "plt.tight_layout()\n",
        "plt.savefig('performance_histograms.jpg', dpi=300)\n",
        "plt.show()"
      ],
      "metadata": {
        "id": "Fo031GTgflem",
        "colab": {
          "base_uri": "https://localhost:8080/",
          "height": 507
        },
        "outputId": "b18ba8fe-5aea-404b-8641-f1b3c00fd59b"
      },
      "execution_count": 135,
      "outputs": [
        {
          "output_type": "display_data",
          "data": {
            "text/plain": [
              "<Figure size 1800x500 with 3 Axes>"
            ],
            "image/png": "[encoded data removed]"
          },
          "metadata": {}
        }
      ]
    },
    {
      "cell_type": "markdown",
      "source": [
        "# Classification"
      ],
      "metadata": {
        "id": "SyjDX5wtL_qR"
      }
    },
    {
      "cell_type": "markdown",
      "source": [
        "Above models predicts continuous values of risk-return performance (regression). Based on those predicted values we want to classified them as -1 (\"Sell\"), 0 (\"Hold\"), 1 (\"Buy\")"
      ],
      "metadata": {
        "id": "HLYAnDj7MVxR"
      }
    },
    {
      "cell_type": "code",
      "source": [
        "# neural network is configured to predict value 'perform'\n",
        "# if the 'perform' has value close to 0 then 'class' is 0\n",
        "# if the 'perform' has small, negative value then 'class' is -1\n",
        "# and if the 'perform' has big, positive value then 'class' is 1\n",
        "\n",
        "# I set those limit values based on values from TRAIN\n",
        "# so basically if we got value which is in (limit_left,limit_right) then class is 0\n",
        "# if it is less then limit_left then -1 and bigger then limit_right then 1\n",
        "\n",
        "limit_left = ((TRAIN[TRAIN['Class'] == -1]).iloc[:,-1]).max()\n",
        "limit_right = ((TRAIN[TRAIN['Class'] == 1]).iloc[:,-1]).min()\n",
        "\n",
        "print(limit_left)\n",
        "print(limit_right)"
      ],
      "metadata": {
        "id": "No_Hzgg1fpy5",
        "colab": {
          "base_uri": "https://localhost:8080/"
        },
        "outputId": "f9d7be96-a7c8-4686-c271-9e01fa949c27"
      },
      "execution_count": 121,
      "outputs": [
        {
          "output_type": "stream",
          "name": "stdout",
          "text": [
            "-0.015037764\n",
            "0.040084855\n"
          ]
        }
      ]
    },
    {
      "cell_type": "code",
      "source": [
        "Predictions1 = torch.zeros_like(outputs1, dtype=torch.int32)\n",
        "\n",
        "Predictions1[outputs1 < limit_left] = -1\n",
        "Predictions1[(outputs1 >= limit_left) & (outputs1 <= limit_right)] = 0\n",
        "Predictions1[outputs1 > limit_right] = 1\n",
        "Predictions1.flatten()"
      ],
      "metadata": {
        "id": "MuqrRZ4vfroT",
        "colab": {
          "base_uri": "https://localhost:8080/"
        },
        "outputId": "1949819c-2e00-44c5-aa19-9a289dfb837b"
      },
      "execution_count": 122,
      "outputs": [
        {
          "output_type": "execute_result",
          "data": {
            "text/plain": [
              "tensor([-1,  0, -1,  ...,  1,  1,  0], device='cuda:0', dtype=torch.int32)"
            ]
          },
          "metadata": {},
          "execution_count": 122
        }
      ]
    },
    {
      "cell_type": "code",
      "source": [
        "matrix1 = confusion_matrix(y_pred = Predictions1.flatten().cpu(), y_true = torch.tensor(EVALUATION.iloc[:,0].values.flatten(), dtype=torch.int32), labels=[-1, 0, 1])\n",
        "matrix1"
      ],
      "metadata": {
        "id": "OEgzvyFffs6-",
        "colab": {
          "base_uri": "https://localhost:8080/"
        },
        "outputId": "d702768e-b051-4dc5-e84b-37cc5bb26a57"
      },
      "execution_count": 123,
      "outputs": [
        {
          "output_type": "execute_result",
          "data": {
            "text/plain": [
              "array([[102, 367, 304],\n",
              "       [ 37, 119, 129],\n",
              "       [ 82, 417, 443]])"
            ]
          },
          "metadata": {},
          "execution_count": 123
        }
      ]
    },
    {
      "cell_type": "code",
      "source": [
        "error_cost_matrix = np.array([[0, 1, 2],\n",
        "                              [1, 0, 1],\n",
        "                              [2, 1, 0]])\n",
        "\n",
        "# Classification Weighted Error from competition\n",
        "np.sum(matrix1 *error_cost_matrix) / len(Predictions1.flatten())"
      ],
      "metadata": {
        "id": "6uY7UJGQfuBm",
        "colab": {
          "base_uri": "https://localhost:8080/"
        },
        "outputId": "67c3bb41-b17d-465c-bc60-0e960651233f"
      },
      "execution_count": 131,
      "outputs": [
        {
          "output_type": "execute_result",
          "data": {
            "text/plain": [
              "0.861"
            ]
          },
          "metadata": {},
          "execution_count": 131
        }
      ]
    },
    {
      "cell_type": "code",
      "source": [
        "Predictions2 = torch.zeros_like(outputs2, dtype=torch.int32)\n",
        "\n",
        "Predictions2[outputs2 < limit_left] = -1\n",
        "Predictions2[(outputs2 >= limit_left) & (outputs2 <= limit_right)] = 0\n",
        "Predictions2[outputs2 > limit_right] = 1\n",
        "Predictions2.flatten()"
      ],
      "metadata": {
        "id": "5xFX9hxFfvZO",
        "colab": {
          "base_uri": "https://localhost:8080/"
        },
        "outputId": "e1f238a5-63eb-40cd-8e05-c50a574a0710"
      },
      "execution_count": 125,
      "outputs": [
        {
          "output_type": "execute_result",
          "data": {
            "text/plain": [
              "tensor([-1,  1,  0,  ...,  0,  1,  0], device='cuda:0', dtype=torch.int32)"
            ]
          },
          "metadata": {},
          "execution_count": 125
        }
      ]
    },
    {
      "cell_type": "code",
      "source": [
        "matrix2 = confusion_matrix(y_pred =Predictions2.flatten().cpu(),y_true = torch.tensor(EVALUATION.iloc[:,0].values.flatten(), dtype=torch.int32), labels=[-1, 0, 1])\n",
        "matrix2"
      ],
      "metadata": {
        "id": "VafpS5NLfwn-",
        "colab": {
          "base_uri": "https://localhost:8080/"
        },
        "outputId": "fcc617d0-3bb3-4c29-b41d-60c554b0f37d"
      },
      "execution_count": 126,
      "outputs": [
        {
          "output_type": "execute_result",
          "data": {
            "text/plain": [
              "array([[ 75, 406, 292],\n",
              "       [ 19, 143, 123],\n",
              "       [ 49, 448, 445]])"
            ]
          },
          "metadata": {},
          "execution_count": 126
        }
      ]
    },
    {
      "cell_type": "code",
      "source": [
        "error_cost_matrix = np.array([[0, 1, 2],\n",
        "                              [1, 0, 1],\n",
        "                              [2, 1, 0]])\n",
        "\n",
        "# Classification Weighted Error from competition\n",
        "np.sum(matrix2 *error_cost_matrix) / len(Predictions2.flatten())"
      ],
      "metadata": {
        "id": "CnVXE4IOfxuC",
        "colab": {
          "base_uri": "https://localhost:8080/"
        },
        "outputId": "eb29bd81-4703-4f26-cfca-4f555b4b844d"
      },
      "execution_count": 132,
      "outputs": [
        {
          "output_type": "execute_result",
          "data": {
            "text/plain": [
              "0.839"
            ]
          },
          "metadata": {},
          "execution_count": 132
        }
      ]
    },
    {
      "cell_type": "code",
      "source": [
        "Predictions3 = torch.zeros_like(outputs3, dtype=torch.int32)\n",
        "\n",
        "Predictions3[outputs3 < limit_left] = -1\n",
        "Predictions3[(outputs3 >= limit_left) & (outputs3 <= limit_right)] = 0\n",
        "Predictions3[outputs3 > limit_right] = 1\n",
        "Predictions3.flatten()"
      ],
      "metadata": {
        "id": "Uk18PpAFf1Yq",
        "colab": {
          "base_uri": "https://localhost:8080/"
        },
        "outputId": "7e6d5d6c-840c-4cb4-b220-a511f430c50b"
      },
      "execution_count": 128,
      "outputs": [
        {
          "output_type": "execute_result",
          "data": {
            "text/plain": [
              "tensor([-1,  0, -1,  ...,  1,  1, -1], device='cuda:0', dtype=torch.int32)"
            ]
          },
          "metadata": {},
          "execution_count": 128
        }
      ]
    },
    {
      "cell_type": "code",
      "source": [
        "matrix3 = confusion_matrix(y_pred =Predictions3.flatten().cpu(), y_true =torch.tensor(EVALUATION.iloc[:,0].values.flatten(), dtype=torch.int32), labels=[-1, 0, 1])\n",
        "matrix3"
      ],
      "metadata": {
        "id": "_mVCHuk8f2gq",
        "colab": {
          "base_uri": "https://localhost:8080/"
        },
        "outputId": "c8fa36da-2dc9-4e81-e790-2a4d8450f573"
      },
      "execution_count": 129,
      "outputs": [
        {
          "output_type": "execute_result",
          "data": {
            "text/plain": [
              "array([[126, 325, 322],\n",
              "       [ 38, 112, 135],\n",
              "       [126, 376, 440]])"
            ]
          },
          "metadata": {},
          "execution_count": 129
        }
      ]
    },
    {
      "cell_type": "code",
      "source": [
        "error_cost_matrix = np.array([[0, 1, 2],\n",
        "                              [1, 0, 1],\n",
        "                              [2, 1, 0]])\n",
        "\n",
        "# Classification Weighted Error from competition\n",
        "np.sum(matrix3 *error_cost_matrix) / len(Predictions3.flatten())"
      ],
      "metadata": {
        "id": "Edt9oltyf3mf",
        "colab": {
          "base_uri": "https://localhost:8080/"
        },
        "outputId": "9a37cd1f-b7f2-4723-972f-ca94ccd39262"
      },
      "execution_count": 133,
      "outputs": [
        {
          "output_type": "execute_result",
          "data": {
            "text/plain": [
              "0.885"
            ]
          },
          "metadata": {},
          "execution_count": 133
        }
      ]
    },
    {
      "cell_type": "code",
      "source": [
        "import seaborn as sns\n",
        "\n",
        "matrices = []\n",
        "matrices.append(matrix1)\n",
        "matrices.append(matrix2)\n",
        "matrices.append(matrix3)\n",
        "\n",
        "fig, axes = plt.subplots(1, 3, figsize=(20, 6))\n",
        "\n",
        "for i, matrix in enumerate(matrices):\n",
        "    sns.heatmap(matrix, annot=True, fmt='d', cmap='Blues', xticklabels=[-1, 0, 1], yticklabels=[-1, 0, 1], ax=axes[i], annot_kws={\"size\": 16, \"weight\": \"bold\"})\n",
        "    axes[i].set_xlabel('Predicted', fontsize=14)\n",
        "    axes[i].set_ylabel('True', fontsize=14)\n",
        "    axes[i].set_title(f'Confusion Matrix for Model {i+1}', fontsize=15)\n",
        "    axes[i].tick_params(labelsize=14)\n",
        "\n",
        "plt.tight_layout()\n",
        "plt.savefig('confusion_matrices_grid.jpg', dpi=300)\n",
        "plt.show()"
      ],
      "metadata": {
        "id": "wdPlFjVtf41y",
        "colab": {
          "base_uri": "https://localhost:8080/",
          "height": 607
        },
        "outputId": "b6e2a105-4f6a-4d83-deb3-4ccb002bd5dd"
      },
      "execution_count": 136,
      "outputs": [
        {
          "output_type": "display_data",
          "data": {
            "text/plain": [
              "<Figure size 2000x600 with 6 Axes>"
            ],
            "image/png": "[encoded data removed]"
          },
          "metadata": {}
        }
      ]
    }
  ]
}